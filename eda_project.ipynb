{
 "cells": [
  {
   "cell_type": "code",
   "execution_count": null,
   "metadata": {},
   "outputs": [],
   "source": [
    "import numpy as np\n",
    "import pandas as pd\n",
    "import matplotlib.pyplot as plt\n",
    "import seaborn as sns"
   ]
  },
  {
   "cell_type": "code",
   "execution_count": null,
   "metadata": {},
   "outputs": [
    {
     "name": "stdout",
     "output_type": "stream",
     "text": [
      "       RecordID      Country Gender Demographics Question  \\\n",
      "0             1  Afghanistan      F        Marital status   \n",
      "1             1  Afghanistan      F             Education   \n",
      "2             1  Afghanistan      F             Education   \n",
      "3             1  Afghanistan      F             Education   \n",
      "4             1  Afghanistan      F        Marital status   \n",
      "...         ...          ...    ...                   ...   \n",
      "12595       210     Zimbabwe      M             Residence   \n",
      "12596       280     Zimbabwe      M             Residence   \n",
      "12597       280     Zimbabwe      M             Residence   \n",
      "12598       350     Zimbabwe      M             Residence   \n",
      "12599       350     Zimbabwe      M             Residence   \n",
      "\n",
      "              Demographics Response                                 Question  \\\n",
      "0                     Never married                ... if she burns the food   \n",
      "1                            Higher                ... if she burns the food   \n",
      "2                         Secondary                ... if she burns the food   \n",
      "3                           Primary                ... if she burns the food   \n",
      "4      Widowed, divorced, separated                ... if she burns the food   \n",
      "...                             ...                                      ...   \n",
      "12595                         Urban  ... if she goes out without telling him   \n",
      "12596                         Rural         ... if she neglects the children   \n",
      "12597                         Urban         ... if she neglects the children   \n",
      "12598                         Rural  ... if she refuses to have sex with him   \n",
      "12599                         Urban  ... if she refuses to have sex with him   \n",
      "\n",
      "      Survey Year  Value  \n",
      "0      01/01/2015    NaN  \n",
      "1      01/01/2015   10.1  \n",
      "2      01/01/2015   13.7  \n",
      "3      01/01/2015   13.8  \n",
      "4      01/01/2015   13.8  \n",
      "...           ...    ...  \n",
      "12595  01/01/2015   11.8  \n",
      "12596  01/01/2015   20.1  \n",
      "12597  01/01/2015   15.0  \n",
      "12598  01/01/2015    7.2  \n",
      "12599  01/01/2015    3.7  \n",
      "\n",
      "[12600 rows x 8 columns]\n"
     ]
    }
   ],
   "source": [
    "df = pd.read_csv(r'C:\\Users\\sansk\\OneDrive\\Desktop\\python\\ca.csv')\n",
    "print(df)"
   ]
  },
  {
   "cell_type": "code",
   "execution_count": null,
   "metadata": {},
   "outputs": [
    {
     "data": {
      "text/html": [
       "<div>\n",
       "<style scoped>\n",
       "    .dataframe tbody tr th:only-of-type {\n",
       "        vertical-align: middle;\n",
       "    }\n",
       "\n",
       "    .dataframe tbody tr th {\n",
       "        vertical-align: top;\n",
       "    }\n",
       "\n",
       "    .dataframe thead th {\n",
       "        text-align: right;\n",
       "    }\n",
       "</style>\n",
       "<table border=\"1\" class=\"dataframe\">\n",
       "  <thead>\n",
       "    <tr style=\"text-align: right;\">\n",
       "      <th></th>\n",
       "      <th>RecordID</th>\n",
       "      <th>Country</th>\n",
       "      <th>Gender</th>\n",
       "      <th>Demographics Question</th>\n",
       "      <th>Demographics Response</th>\n",
       "      <th>Question</th>\n",
       "      <th>Survey Year</th>\n",
       "      <th>Value</th>\n",
       "    </tr>\n",
       "  </thead>\n",
       "  <tbody>\n",
       "    <tr>\n",
       "      <th>0</th>\n",
       "      <td>1</td>\n",
       "      <td>Afghanistan</td>\n",
       "      <td>F</td>\n",
       "      <td>Marital status</td>\n",
       "      <td>Never married</td>\n",
       "      <td>... if she burns the food</td>\n",
       "      <td>01/01/2015</td>\n",
       "      <td>NaN</td>\n",
       "    </tr>\n",
       "    <tr>\n",
       "      <th>1</th>\n",
       "      <td>1</td>\n",
       "      <td>Afghanistan</td>\n",
       "      <td>F</td>\n",
       "      <td>Education</td>\n",
       "      <td>Higher</td>\n",
       "      <td>... if she burns the food</td>\n",
       "      <td>01/01/2015</td>\n",
       "      <td>10.1</td>\n",
       "    </tr>\n",
       "    <tr>\n",
       "      <th>2</th>\n",
       "      <td>1</td>\n",
       "      <td>Afghanistan</td>\n",
       "      <td>F</td>\n",
       "      <td>Education</td>\n",
       "      <td>Secondary</td>\n",
       "      <td>... if she burns the food</td>\n",
       "      <td>01/01/2015</td>\n",
       "      <td>13.7</td>\n",
       "    </tr>\n",
       "    <tr>\n",
       "      <th>3</th>\n",
       "      <td>1</td>\n",
       "      <td>Afghanistan</td>\n",
       "      <td>F</td>\n",
       "      <td>Education</td>\n",
       "      <td>Primary</td>\n",
       "      <td>... if she burns the food</td>\n",
       "      <td>01/01/2015</td>\n",
       "      <td>13.8</td>\n",
       "    </tr>\n",
       "    <tr>\n",
       "      <th>4</th>\n",
       "      <td>1</td>\n",
       "      <td>Afghanistan</td>\n",
       "      <td>F</td>\n",
       "      <td>Marital status</td>\n",
       "      <td>Widowed, divorced, separated</td>\n",
       "      <td>... if she burns the food</td>\n",
       "      <td>01/01/2015</td>\n",
       "      <td>13.8</td>\n",
       "    </tr>\n",
       "  </tbody>\n",
       "</table>\n",
       "</div>"
      ],
      "text/plain": [
       "   RecordID      Country Gender Demographics Question  \\\n",
       "0         1  Afghanistan      F        Marital status   \n",
       "1         1  Afghanistan      F             Education   \n",
       "2         1  Afghanistan      F             Education   \n",
       "3         1  Afghanistan      F             Education   \n",
       "4         1  Afghanistan      F        Marital status   \n",
       "\n",
       "          Demographics Response                   Question Survey Year  Value  \n",
       "0                 Never married  ... if she burns the food  01/01/2015    NaN  \n",
       "1                        Higher  ... if she burns the food  01/01/2015   10.1  \n",
       "2                     Secondary  ... if she burns the food  01/01/2015   13.7  \n",
       "3                       Primary  ... if she burns the food  01/01/2015   13.8  \n",
       "4  Widowed, divorced, separated  ... if she burns the food  01/01/2015   13.8  "
      ]
     },
     "execution_count": 9,
     "metadata": {},
     "output_type": "execute_result"
    }
   ],
   "source": [
    "df.head()"
   ]
  },
  {
   "cell_type": "code",
   "execution_count": null,
   "metadata": {},
   "outputs": [
    {
     "data": {
      "text/html": [
       "<div>\n",
       "<style scoped>\n",
       "    .dataframe tbody tr th:only-of-type {\n",
       "        vertical-align: middle;\n",
       "    }\n",
       "\n",
       "    .dataframe tbody tr th {\n",
       "        vertical-align: top;\n",
       "    }\n",
       "\n",
       "    .dataframe thead th {\n",
       "        text-align: right;\n",
       "    }\n",
       "</style>\n",
       "<table border=\"1\" class=\"dataframe\">\n",
       "  <thead>\n",
       "    <tr style=\"text-align: right;\">\n",
       "      <th></th>\n",
       "      <th>RecordID</th>\n",
       "      <th>Country</th>\n",
       "      <th>Gender</th>\n",
       "      <th>Demographics Question</th>\n",
       "      <th>Demographics Response</th>\n",
       "      <th>Question</th>\n",
       "      <th>Survey Year</th>\n",
       "      <th>Value</th>\n",
       "    </tr>\n",
       "  </thead>\n",
       "  <tbody>\n",
       "    <tr>\n",
       "      <th>12595</th>\n",
       "      <td>210</td>\n",
       "      <td>Zimbabwe</td>\n",
       "      <td>M</td>\n",
       "      <td>Residence</td>\n",
       "      <td>Urban</td>\n",
       "      <td>... if she goes out without telling him</td>\n",
       "      <td>01/01/2015</td>\n",
       "      <td>11.8</td>\n",
       "    </tr>\n",
       "    <tr>\n",
       "      <th>12596</th>\n",
       "      <td>280</td>\n",
       "      <td>Zimbabwe</td>\n",
       "      <td>M</td>\n",
       "      <td>Residence</td>\n",
       "      <td>Rural</td>\n",
       "      <td>... if she neglects the children</td>\n",
       "      <td>01/01/2015</td>\n",
       "      <td>20.1</td>\n",
       "    </tr>\n",
       "    <tr>\n",
       "      <th>12597</th>\n",
       "      <td>280</td>\n",
       "      <td>Zimbabwe</td>\n",
       "      <td>M</td>\n",
       "      <td>Residence</td>\n",
       "      <td>Urban</td>\n",
       "      <td>... if she neglects the children</td>\n",
       "      <td>01/01/2015</td>\n",
       "      <td>15.0</td>\n",
       "    </tr>\n",
       "    <tr>\n",
       "      <th>12598</th>\n",
       "      <td>350</td>\n",
       "      <td>Zimbabwe</td>\n",
       "      <td>M</td>\n",
       "      <td>Residence</td>\n",
       "      <td>Rural</td>\n",
       "      <td>... if she refuses to have sex with him</td>\n",
       "      <td>01/01/2015</td>\n",
       "      <td>7.2</td>\n",
       "    </tr>\n",
       "    <tr>\n",
       "      <th>12599</th>\n",
       "      <td>350</td>\n",
       "      <td>Zimbabwe</td>\n",
       "      <td>M</td>\n",
       "      <td>Residence</td>\n",
       "      <td>Urban</td>\n",
       "      <td>... if she refuses to have sex with him</td>\n",
       "      <td>01/01/2015</td>\n",
       "      <td>3.7</td>\n",
       "    </tr>\n",
       "  </tbody>\n",
       "</table>\n",
       "</div>"
      ],
      "text/plain": [
       "       RecordID   Country Gender Demographics Question Demographics Response  \\\n",
       "12595       210  Zimbabwe      M             Residence                 Urban   \n",
       "12596       280  Zimbabwe      M             Residence                 Rural   \n",
       "12597       280  Zimbabwe      M             Residence                 Urban   \n",
       "12598       350  Zimbabwe      M             Residence                 Rural   \n",
       "12599       350  Zimbabwe      M             Residence                 Urban   \n",
       "\n",
       "                                      Question Survey Year  Value  \n",
       "12595  ... if she goes out without telling him  01/01/2015   11.8  \n",
       "12596         ... if she neglects the children  01/01/2015   20.1  \n",
       "12597         ... if she neglects the children  01/01/2015   15.0  \n",
       "12598  ... if she refuses to have sex with him  01/01/2015    7.2  \n",
       "12599  ... if she refuses to have sex with him  01/01/2015    3.7  "
      ]
     },
     "execution_count": 10,
     "metadata": {},
     "output_type": "execute_result"
    }
   ],
   "source": [
    "df.tail()"
   ]
  },
  {
   "cell_type": "code",
   "execution_count": null,
   "metadata": {},
   "outputs": [
    {
     "name": "stdout",
     "output_type": "stream",
     "text": [
      "<class 'pandas.core.frame.DataFrame'>\n",
      "RangeIndex: 12600 entries, 0 to 12599\n",
      "Data columns (total 8 columns):\n",
      " #   Column                 Non-Null Count  Dtype  \n",
      "---  ------                 --------------  -----  \n",
      " 0   RecordID               12600 non-null  int64  \n",
      " 1   Country                12600 non-null  object \n",
      " 2   Gender                 12600 non-null  object \n",
      " 3   Demographics Question  12600 non-null  object \n",
      " 4   Demographics Response  12600 non-null  object \n",
      " 5   Question               12600 non-null  object \n",
      " 6   Survey Year            12600 non-null  object \n",
      " 7   Value                  11187 non-null  float64\n",
      "dtypes: float64(1), int64(1), object(6)\n",
      "memory usage: 787.6+ KB\n"
     ]
    }
   ],
   "source": [
    "df.info()"
   ]
  },
  {
   "cell_type": "code",
   "execution_count": null,
   "metadata": {},
   "outputs": [
    {
     "data": {
      "text/plain": [
       "(12600, 8)"
      ]
     },
     "execution_count": 12,
     "metadata": {},
     "output_type": "execute_result"
    }
   ],
   "source": [
    "df.shape"
   ]
  },
  {
   "cell_type": "code",
   "execution_count": null,
   "metadata": {},
   "outputs": [
    {
     "data": {
      "text/plain": [
       "<bound method NDFrame.describe of        RecordID      Country Gender Demographics Question  \\\n",
       "0             1  Afghanistan      F        Marital status   \n",
       "1             1  Afghanistan      F             Education   \n",
       "2             1  Afghanistan      F             Education   \n",
       "3             1  Afghanistan      F             Education   \n",
       "4             1  Afghanistan      F        Marital status   \n",
       "...         ...          ...    ...                   ...   \n",
       "12595       210     Zimbabwe      M             Residence   \n",
       "12596       280     Zimbabwe      M             Residence   \n",
       "12597       280     Zimbabwe      M             Residence   \n",
       "12598       350     Zimbabwe      M             Residence   \n",
       "12599       350     Zimbabwe      M             Residence   \n",
       "\n",
       "              Demographics Response                                 Question  \\\n",
       "0                     Never married                ... if she burns the food   \n",
       "1                            Higher                ... if she burns the food   \n",
       "2                         Secondary                ... if she burns the food   \n",
       "3                           Primary                ... if she burns the food   \n",
       "4      Widowed, divorced, separated                ... if she burns the food   \n",
       "...                             ...                                      ...   \n",
       "12595                         Urban  ... if she goes out without telling him   \n",
       "12596                         Rural         ... if she neglects the children   \n",
       "12597                         Urban         ... if she neglects the children   \n",
       "12598                         Rural  ... if she refuses to have sex with him   \n",
       "12599                         Urban  ... if she refuses to have sex with him   \n",
       "\n",
       "      Survey Year  Value  \n",
       "0      01/01/2015    NaN  \n",
       "1      01/01/2015   10.1  \n",
       "2      01/01/2015   13.7  \n",
       "3      01/01/2015   13.8  \n",
       "4      01/01/2015   13.8  \n",
       "...           ...    ...  \n",
       "12595  01/01/2015   11.8  \n",
       "12596  01/01/2015   20.1  \n",
       "12597  01/01/2015   15.0  \n",
       "12598  01/01/2015    7.2  \n",
       "12599  01/01/2015    3.7  \n",
       "\n",
       "[12600 rows x 8 columns]>"
      ]
     },
     "execution_count": 13,
     "metadata": {},
     "output_type": "execute_result"
    }
   ],
   "source": [
    "df.describe"
   ]
  },
  {
   "cell_type": "code",
   "execution_count": null,
   "metadata": {},
   "outputs": [
    {
     "data": {
      "text/plain": [
       "<bound method DataFrame.info of        RecordID      Country Gender Demographics Question  \\\n",
       "0             1  Afghanistan      F        Marital status   \n",
       "1             1  Afghanistan      F             Education   \n",
       "2             1  Afghanistan      F             Education   \n",
       "3             1  Afghanistan      F             Education   \n",
       "4             1  Afghanistan      F        Marital status   \n",
       "...         ...          ...    ...                   ...   \n",
       "12595       210     Zimbabwe      M             Residence   \n",
       "12596       280     Zimbabwe      M             Residence   \n",
       "12597       280     Zimbabwe      M             Residence   \n",
       "12598       350     Zimbabwe      M             Residence   \n",
       "12599       350     Zimbabwe      M             Residence   \n",
       "\n",
       "              Demographics Response                                 Question  \\\n",
       "0                     Never married                ... if she burns the food   \n",
       "1                            Higher                ... if she burns the food   \n",
       "2                         Secondary                ... if she burns the food   \n",
       "3                           Primary                ... if she burns the food   \n",
       "4      Widowed, divorced, separated                ... if she burns the food   \n",
       "...                             ...                                      ...   \n",
       "12595                         Urban  ... if she goes out without telling him   \n",
       "12596                         Rural         ... if she neglects the children   \n",
       "12597                         Urban         ... if she neglects the children   \n",
       "12598                         Rural  ... if she refuses to have sex with him   \n",
       "12599                         Urban  ... if she refuses to have sex with him   \n",
       "\n",
       "      Survey Year  Value  \n",
       "0      01/01/2015    NaN  \n",
       "1      01/01/2015   10.1  \n",
       "2      01/01/2015   13.7  \n",
       "3      01/01/2015   13.8  \n",
       "4      01/01/2015   13.8  \n",
       "...           ...    ...  \n",
       "12595  01/01/2015   11.8  \n",
       "12596  01/01/2015   20.1  \n",
       "12597  01/01/2015   15.0  \n",
       "12598  01/01/2015    7.2  \n",
       "12599  01/01/2015    3.7  \n",
       "\n",
       "[12600 rows x 8 columns]>"
      ]
     },
     "execution_count": 14,
     "metadata": {},
     "output_type": "execute_result"
    }
   ],
   "source": [
    "df.info"
   ]
  },
  {
   "cell_type": "code",
   "execution_count": null,
   "metadata": {},
   "outputs": [
    {
     "data": {
      "text/plain": [
       "RecordID                    0\n",
       "Country                     0\n",
       "Gender                      0\n",
       "Demographics Question       0\n",
       "Demographics Response       0\n",
       "Question                    0\n",
       "Survey Year                 0\n",
       "Value                    1413\n",
       "dtype: int64"
      ]
     },
     "execution_count": 15,
     "metadata": {},
     "output_type": "execute_result"
    }
   ],
   "source": [
    "df.isnull().sum()"
   ]
  },
  {
   "cell_type": "code",
   "execution_count": null,
   "metadata": {},
   "outputs": [],
   "source": []
  }
 ],
 "metadata": {
  "kernelspec": {
   "display_name": "Python 3.11.0 64-bit",
   "language": "python",
   "name": "python3"
  },
  "language_info": {
   "codemirror_mode": {
    "name": "ipython",
    "version": 3
   },
   "file_extension": ".py",
   "mimetype": "text/x-python",
   "name": "python",
   "nbconvert_exporter": "python",
   "pygments_lexer": "ipython3",
   "version": "3.11.0"
  },
  "orig_nbformat": 4,
  "vscode": {
   "interpreter": {
    "hash": "2e826a023bfaca6e58081a313674bd1095dc3637d7d79a81a85165f3e19bc058"
   }
  }
 },
 "nbformat": 4,
 "nbformat_minor": 2
}
